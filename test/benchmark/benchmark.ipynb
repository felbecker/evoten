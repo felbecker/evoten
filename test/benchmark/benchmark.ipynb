{
 "cells": [
  {
   "cell_type": "code",
   "execution_count": 1,
   "metadata": {},
   "outputs": [
    {
     "name": "stderr",
     "output_type": "stream",
     "text": [
      "2025-05-06 15:16:35.067662: E external/local_xla/xla/stream_executor/cuda/cuda_fft.cc:485] Unable to register cuFFT factory: Attempting to register factory for plugin cuFFT when one has already been registered\n",
      "2025-05-06 15:16:35.084916: E external/local_xla/xla/stream_executor/cuda/cuda_dnn.cc:8454] Unable to register cuDNN factory: Attempting to register factory for plugin cuDNN when one has already been registered\n",
      "2025-05-06 15:16:35.090151: E external/local_xla/xla/stream_executor/cuda/cuda_blas.cc:1452] Unable to register cuBLAS factory: Attempting to register factory for plugin cuBLAS when one has already been registered\n",
      "2025-05-06 15:16:35.103855: I tensorflow/core/platform/cpu_feature_guard.cc:210] This TensorFlow binary is optimized to use available CPU instructions in performance-critical operations.\n",
      "To enable the following instructions: AVX2 FMA, in other operations, rebuild TensorFlow with the appropriate compiler flags.\n",
      "2025-05-06 15:16:35.720393: W tensorflow/compiler/tf2tensorrt/utils/py_utils.cc:38] TF-TRT Warning: Could not find TensorRT\n"
     ]
    }
   ],
   "source": [
    "import os\n",
    "\n",
    "os.environ[\"CUDA_VISIBLE_DEVICES\"] = \"0\"\n",
    "import sys\n",
    "\n",
    "sys.path.append(\"../..\")\n",
    "import numpy as np\n",
    "import tensorflow as tf\n",
    "from Bio import SeqIO\n",
    "\n",
    "import evoten"
   ]
  },
  {
   "cell_type": "code",
   "execution_count": null,
   "metadata": {},
   "outputs": [],
   "source": [
    "msa_file = \"../data/PF00028.fasta\"\n",
    "tree_file = \"../data/PF00028.fasta.raxml.bestTree\"\n",
    "alphabet = \"ARNDCQEGHILKMFPSTWYV\""
   ]
  },
  {
   "cell_type": "code",
   "execution_count": 3,
   "metadata": {},
   "outputs": [],
   "source": [
    "# parse fasta\n",
    "import evoten.model\n",
    "\n",
    "leaf_names = []\n",
    "seqs = []\n",
    "for record in SeqIO.parse(msa_file, \"fasta\"):\n",
    "    leaf_names.append(record.id)\n",
    "    seqs.append(str(record.seq))\n",
    "\n",
    "one_hot_leaves = evoten.util.encode_one_hot(seqs, alphabet=alphabet+\".\")\n",
    "# handle gaps\n",
    "one_hot_leaves = one_hot_leaves[... ,:-1] + one_hot_leaves[..., -1:]/len(alphabet)\n",
    "one_hot_leaves = one_hot_leaves[:, np.newaxis] # add model dimension\n",
    "\n",
    "# create tree\n",
    "tree = evoten.TreeHandler.read(tree_file)"
   ]
  },
  {
   "cell_type": "code",
   "execution_count": 4,
   "metadata": {},
   "outputs": [
    {
     "data": {
      "text/plain": [
       "(107, 1)"
      ]
     },
     "execution_count": 4,
     "metadata": {},
     "output_type": "execute_result"
    }
   ],
   "source": [
    "tree.branch_lengths.shape"
   ]
  },
  {
   "cell_type": "code",
   "execution_count": 5,
   "metadata": {},
   "outputs": [
    {
     "data": {
      "image/png": "[encoded data removed]",
      "text/plain": [
       "<Figure size 640x480 with 1 Axes>"
      ]
     },
     "metadata": {},
     "output_type": "display_data"
    }
   ],
   "source": [
    "tree.draw(no_labels=True)"
   ]
  },
  {
   "cell_type": "code",
   "execution_count": 6,
   "metadata": {},
   "outputs": [
    {
     "name": "stdout",
     "output_type": "stream",
     "text": [
      "MSA depth: 55\n",
      "MSA width: 129\n",
      "Tree height: 12\n",
      "Tree nodes: 108\n"
     ]
    }
   ],
   "source": [
    "print(\"MSA depth:\", len(seqs))\n",
    "print(\"MSA width:\", len(seqs[0]))\n",
    "print(\"Tree height:\", tree.height)\n",
    "print(\"Tree nodes:\", tree.num_nodes)"
   ]
  },
  {
   "cell_type": "code",
   "execution_count": 7,
   "metadata": {},
   "outputs": [],
   "source": [
    "# set 10 identical models by copying the branch \n",
    "# leaves and rate matrix will be broadcasted\n",
    "num_models = 10\n",
    "\n",
    "branch_lengths = np.repeat(tree.branch_lengths, num_models, -1)\n",
    "\n",
    "# add length dimension\n",
    "branch_lengths = branch_lengths[..., np.newaxis].astype(np.float32)"
   ]
  },
  {
   "cell_type": "markdown",
   "metadata": {},
   "source": [
    "### TensorFlow"
   ]
  },
  {
   "cell_type": "code",
   "execution_count": 8,
   "metadata": {},
   "outputs": [],
   "source": [
    "evoten.set_backend(\"tensorflow\")"
   ]
  },
  {
   "cell_type": "code",
   "execution_count": 9,
   "metadata": {},
   "outputs": [
    {
     "name": "stderr",
     "output_type": "stream",
     "text": [
      "2025-05-06 15:16:37.119363: W tensorflow/core/common_runtime/gpu/gpu_bfc_allocator.cc:47] Overriding orig_value setting because the TF_FORCE_GPU_ALLOW_GROWTH environment variable is set. Original config value was 0.\n",
      "2025-05-06 15:16:37.119572: I tensorflow/core/common_runtime/gpu/gpu_device.cc:2021] Created device /job:localhost/replica:0/task:0/device:GPU:0 with 21909 MB memory:  -> device: 0, name: NVIDIA GeForce RTX 3090, pci bus id: 0000:01:00.0, compute capability: 8.6\n"
     ]
    }
   ],
   "source": [
    "R, pi = evoten.substitution_models.jukes_cantor(d = len(alphabet))\n",
    "rate_matrix = evoten.model.backend.make_rate_matrix(R, pi).numpy()\n",
    "rate_matrix = rate_matrix[tf.newaxis, :, tf.newaxis,...] # add node and length dimensions"
   ]
  },
  {
   "cell_type": "code",
   "execution_count": 10,
   "metadata": {},
   "outputs": [],
   "source": [
    "#wrap in tf function for speed\n",
    "@tf.function\n",
    "def loglik():\n",
    "    transition_probs = evoten.backend.make_transition_probs(\n",
    "        rate_matrix, \n",
    "        branch_lengths\n",
    "    )\n",
    "    return evoten.model.loglik(\n",
    "        one_hot_leaves, \n",
    "        tree, \n",
    "        transition_probs,\n",
    "        tf.math.log(pi),\n",
    "        leaf_names, \n",
    "        leaves_are_probabilities=True\n",
    "    )"
   ]
  },
  {
   "cell_type": "code",
   "execution_count": 11,
   "metadata": {},
   "outputs": [
    {
     "name": "stderr",
     "output_type": "stream",
     "text": [
      "2025-05-06 15:16:38.822246: I tensorflow/core/util/cuda_solvers.cc:178] Creating GpuSolver handles for stream 0x60a9bc8140b0\n"
     ]
    }
   ],
   "source": [
    "_=loglik() # compile"
   ]
  },
  {
   "cell_type": "code",
   "execution_count": 12,
   "metadata": {},
   "outputs": [
    {
     "name": "stdout",
     "output_type": "stream",
     "text": [
      "2.62 ms ± 108 μs per loop (mean ± std. dev. of 7 runs, 10 loops each)\n"
     ]
    }
   ],
   "source": [
    "%%timeit -n 10\n",
    "    _=loglik()"
   ]
  },
  {
   "cell_type": "markdown",
   "metadata": {},
   "source": [
    "### Pytorch"
   ]
  },
  {
   "cell_type": "code",
   "execution_count": 13,
   "metadata": {},
   "outputs": [],
   "source": [
    "evoten.set_backend(\"pytorch\")"
   ]
  },
  {
   "cell_type": "code",
   "execution_count": 14,
   "metadata": {},
   "outputs": [],
   "source": [
    "import torch \n",
    "\n",
    "R, pi = evoten.substitution_models.jukes_cantor(d = len(alphabet))\n",
    "rate_matrix_torch = evoten.model.backend.make_rate_matrix(R, pi).to(\"cuda\")\n",
    "rate_matrix_torch = rate_matrix_torch[None, :, None,...] # add node and length dimensions\n",
    "\n",
    "pi_torch = torch.tensor(pi, device=\"cuda\")\n",
    "one_hot_leaves_torch = torch.tensor(one_hot_leaves, device=\"cuda\")\n",
    "branch_lengths_toch = torch.tensor(branch_lengths, device=\"cuda\")"
   ]
  },
  {
   "cell_type": "code",
   "execution_count": 15,
   "metadata": {},
   "outputs": [],
   "source": [
    "def loglik_torch():\n",
    "    transition_probs_torch = evoten.backend.make_transition_probs(\n",
    "        rate_matrix_torch, \n",
    "        branch_lengths_toch\n",
    "    )\n",
    "    L = evoten.model.loglik(\n",
    "        one_hot_leaves_torch, \n",
    "        tree, \n",
    "        transition_probs_torch,\n",
    "        torch.log(pi_torch),\n",
    "        leaf_names, \n",
    "        leaves_are_probabilities=True\n",
    "    )\n",
    "    return L"
   ]
  },
  {
   "cell_type": "code",
   "execution_count": 16,
   "metadata": {},
   "outputs": [
    {
     "data": {
      "text/plain": [
       "tensor([[-132.2106, -157.4840, -152.3321,  ..., -158.4232, -106.2271,\n",
       "         -144.2870],\n",
       "        [-132.2106, -157.4840, -152.3321,  ..., -158.4232, -106.2271,\n",
       "         -144.2870],\n",
       "        [-132.2106, -157.4840, -152.3321,  ..., -158.4232, -106.2271,\n",
       "         -144.2870],\n",
       "        ...,\n",
       "        [-132.2106, -157.4840, -152.3321,  ..., -158.4232, -106.2271,\n",
       "         -144.2870],\n",
       "        [-132.2106, -157.4840, -152.3321,  ..., -158.4232, -106.2271,\n",
       "         -144.2870],\n",
       "        [-132.2106, -157.4840, -152.3321,  ..., -158.4232, -106.2271,\n",
       "         -144.2870]], device='cuda:0')"
      ]
     },
     "execution_count": 16,
     "metadata": {},
     "output_type": "execute_result"
    }
   ],
   "source": [
    "loglik_torch()"
   ]
  },
  {
   "cell_type": "code",
   "execution_count": 17,
   "metadata": {},
   "outputs": [
    {
     "name": "stdout",
     "output_type": "stream",
     "text": [
      "4.36 ms ± 34.4 μs per loop (mean ± std. dev. of 7 runs, 10 loops each)\n"
     ]
    }
   ],
   "source": [
    "%%timeit -n 10\n",
    "loglik_torch()"
   ]
  },
  {
   "cell_type": "code",
   "execution_count": null,
   "metadata": {},
   "outputs": [],
   "source": []
  }
 ],
 "metadata": {
  "kernelspec": {
   "display_name": "learnMSAdev",
   "language": "python",
   "name": "python3"
  },
  "language_info": {
   "codemirror_mode": {
    "name": "ipython",
    "version": 3
   },
   "file_extension": ".py",
   "mimetype": "text/x-python",
   "name": "python",
   "nbconvert_exporter": "python",
   "pygments_lexer": "ipython3",
   "version": "3.12.7"
  }
 },
 "nbformat": 4,
 "nbformat_minor": 2
}
