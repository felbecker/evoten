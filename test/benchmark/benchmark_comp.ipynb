{
 "cells": [
  {
   "cell_type": "code",
   "execution_count": 1,
   "metadata": {},
   "outputs": [
    {
     "name": "stderr",
     "output_type": "stream",
     "text": [
      "2025-05-07 12:24:19.544388: E external/local_xla/xla/stream_executor/cuda/cuda_fft.cc:485] Unable to register cuFFT factory: Attempting to register factory for plugin cuFFT when one has already been registered\n",
      "2025-05-07 12:24:19.748644: E external/local_xla/xla/stream_executor/cuda/cuda_dnn.cc:8454] Unable to register cuDNN factory: Attempting to register factory for plugin cuDNN when one has already been registered\n",
      "2025-05-07 12:24:19.808597: E external/local_xla/xla/stream_executor/cuda/cuda_blas.cc:1452] Unable to register cuBLAS factory: Attempting to register factory for plugin cuBLAS when one has already been registered\n",
      "2025-05-07 12:24:20.178502: I tensorflow/core/platform/cpu_feature_guard.cc:210] This TensorFlow binary is optimized to use available CPU instructions in performance-critical operations.\n",
      "To enable the following instructions: AVX2 FMA, in other operations, rebuild TensorFlow with the appropriate compiler flags.\n",
      "2025-05-07 12:24:20.955416: W tensorflow/compiler/tf2tensorrt/utils/py_utils.cc:38] TF-TRT Warning: Could not find TensorRT\n"
     ]
    }
   ],
   "source": [
    "import os\n",
    "\n",
    "os.environ[\"CUDA_VISIBLE_DEVICES\"] = \"0\"\n",
    "import sys\n",
    "\n",
    "sys.path.append(\"../..\")\n",
    "import numpy as np\n",
    "import tensorflow as tf\n",
    "import random\n",
    "from Bio import SeqIO\n",
    "\n",
    "import evoten"
   ]
  },
  {
   "cell_type": "code",
   "execution_count": 2,
   "metadata": {},
   "outputs": [],
   "source": [
    "from tensorflow.python.client import device_lib\n",
    "\n",
    "def get_available_gpus():\n",
    "    local_device_protos = device_lib.list_local_devices()\n",
    "    return [x.name for x in local_device_protos if x.device_type == 'GPU']"
   ]
  },
  {
   "cell_type": "code",
   "execution_count": 3,
   "metadata": {},
   "outputs": [],
   "source": [
    "# generate some sample data\n",
    "def generate_data(n=1000, chain_tree=False, msa_length=100):\n",
    "    msa = np.random.randint(0, 20, (n, msa_length), dtype=np.int32)\n",
    "    if chain_tree:\n",
    "        tree_newick = generate_chain_tree_newick(n)\n",
    "    else:\n",
    "        tree_newick = generate_random_tree_newick(n)\n",
    "    tree_handler = evoten.TreeHandler.from_newick(tree_newick)\n",
    "    return msa, tree_handler\n",
    "\n",
    "\n",
    "def generate_chain_tree_newick(n):\n",
    "    \"\"\"\n",
    "    Generates a Newick string for a chain tree with n nodes.\n",
    "    The tree has nodes 1, 2, ..., n and edges (i, i+1).\n",
    "\n",
    "    Args:\n",
    "        n (int): Number of nodes in the chain tree.\n",
    "\n",
    "    Returns:\n",
    "        str: Newick string representing the chain tree.\n",
    "    \"\"\"\n",
    "    if n < 1:\n",
    "        raise ValueError(\"Number of nodes must be at least 1.\")\n",
    "    \n",
    "    # Start building the Newick string\n",
    "    newick = \"\"\n",
    "    for i in range(1, n + 1):\n",
    "        newick += f\"({i}\"\n",
    "    newick += \")\" * n + \";\"\n",
    "    return newick\n",
    "\n",
    "\n",
    "def generate_random_tree_newick(num_nodes):\n",
    "    \"\"\"\n",
    "    Generates a random tree as a Newick string with exactly the given number of \n",
    "    leaves. The tree is not necessarily binary.\n",
    "\n",
    "    Args:\n",
    "        num_leaves (int): Number of leaves in the tree.\n",
    "\n",
    "    Returns:\n",
    "        str: Newick string representing the random tree.\n",
    "    \"\"\"\n",
    "    if num_nodes < 2:\n",
    "        raise ValueError(\"The tree must have at least 2 nodes.\")\n",
    "\n",
    "    # Initialize nodes as a list of leaf nodes\n",
    "    nodes = [f\"{i}\" for i in range(1, num_nodes + 1)]\n",
    "\n",
    "    # Randomly combine nodes into a tree\n",
    "    while len(nodes) > 1:\n",
    "        # Randomly decide how many nodes to combine (at least 2)\n",
    "        num_to_combine = random.randint(2, min(4, len(nodes)))  # Combine 2 to 4 nodes\n",
    "        selected_indices = sorted(random.sample(range(len(nodes)), num_to_combine), reverse=True)\n",
    "        selected_nodes = [nodes[i] for i in selected_indices]\n",
    "\n",
    "        # Remove the selected nodes from the list in descending order\n",
    "        for i in selected_indices:\n",
    "            nodes.pop(i)\n",
    "\n",
    "        # Generate a new parent node\n",
    "        new_node = f\"({','.join(selected_nodes)})\"\n",
    "\n",
    "        # Add the new node back to the list\n",
    "        nodes.append(new_node)\n",
    "\n",
    "    # The last remaining node is the root\n",
    "    return nodes[0] + \";\""
   ]
  },
  {
   "cell_type": "code",
   "execution_count": 4,
   "metadata": {},
   "outputs": [
    {
     "data": {
      "image/png": "[encoded data removed]",
      "text/plain": [
       "<Figure size 640x480 with 1 Axes>"
      ]
     },
     "metadata": {},
     "output_type": "display_data"
    }
   ],
   "source": [
    "msa, tree_handler = generate_data(1000, chain_tree=False)\n",
    "n, h = tree_handler.num_nodes, tree_handler.height\n",
    "_, chained_tree_handler = generate_data(n-1, chain_tree=True)\n",
    "tree_handler.draw(no_labels=True)"
   ]
  },
  {
   "cell_type": "code",
   "execution_count": 5,
   "metadata": {},
   "outputs": [
    {
     "data": {
      "text/plain": [
       "(1500, 1000, 17)"
      ]
     },
     "execution_count": 5,
     "metadata": {},
     "output_type": "execute_result"
    }
   ],
   "source": [
    "tree_handler.num_nodes, tree_handler.num_leaves, tree_handler.height"
   ]
  },
  {
   "cell_type": "code",
   "execution_count": 6,
   "metadata": {},
   "outputs": [
    {
     "data": {
      "text/plain": [
       "(1500, 1, 1499)"
      ]
     },
     "execution_count": 6,
     "metadata": {},
     "output_type": "execute_result"
    }
   ],
   "source": [
    "chained_tree_handler.num_nodes, chained_tree_handler.num_leaves, chained_tree_handler.height"
   ]
  },
  {
   "cell_type": "code",
   "execution_count": 7,
   "metadata": {},
   "outputs": [],
   "source": [
    "# parse fasta\n",
    "import evoten.model\n",
    "\n",
    "msa_input = np.eye(20)[msa]\n",
    "msa_input = msa_input[:, np.newaxis] # model dimension\n",
    "msa_input = msa_input.astype(np.float32)"
   ]
  },
  {
   "cell_type": "code",
   "execution_count": 8,
   "metadata": {},
   "outputs": [],
   "source": [
    "num_models = 10\n",
    "# generate branch lengths of shape (num_nodes-1, num_models, 1)\n",
    "branch_lengths = np.random.uniform(0.1, 1.0, size=(tree_handler.num_nodes - 1, num_models, 1))\n",
    "branch_lengths = branch_lengths.astype(np.float32)"
   ]
  },
  {
   "cell_type": "markdown",
   "metadata": {},
   "source": [
    "### TensorFlow"
   ]
  },
  {
   "cell_type": "code",
   "execution_count": 9,
   "metadata": {},
   "outputs": [],
   "source": [
    "evoten.set_backend(\"tensorflow\")"
   ]
  },
  {
   "cell_type": "code",
   "execution_count": 10,
   "metadata": {},
   "outputs": [
    {
     "name": "stderr",
     "output_type": "stream",
     "text": [
      "WARNING: All log messages before absl::InitializeLog() is called are written to STDERR\n",
      "I0000 00:00:1746613464.150378    3522 cuda_executor.cc:1015] successful NUMA node read from SysFS had negative value (-1), but there must be at least one NUMA node, so returning NUMA node zero. See more at https://github.com/torvalds/linux/blob/v6.0/Documentation/ABI/testing/sysfs-bus-pci#L344-L355\n",
      "I0000 00:00:1746613464.246047    3522 cuda_executor.cc:1015] successful NUMA node read from SysFS had negative value (-1), but there must be at least one NUMA node, so returning NUMA node zero. See more at https://github.com/torvalds/linux/blob/v6.0/Documentation/ABI/testing/sysfs-bus-pci#L344-L355\n",
      "I0000 00:00:1746613464.246302    3522 cuda_executor.cc:1015] successful NUMA node read from SysFS had negative value (-1), but there must be at least one NUMA node, so returning NUMA node zero. See more at https://github.com/torvalds/linux/blob/v6.0/Documentation/ABI/testing/sysfs-bus-pci#L344-L355\n",
      "I0000 00:00:1746613464.249744    3522 cuda_executor.cc:1015] successful NUMA node read from SysFS had negative value (-1), but there must be at least one NUMA node, so returning NUMA node zero. See more at https://github.com/torvalds/linux/blob/v6.0/Documentation/ABI/testing/sysfs-bus-pci#L344-L355\n",
      "I0000 00:00:1746613464.249925    3522 cuda_executor.cc:1015] successful NUMA node read from SysFS had negative value (-1), but there must be at least one NUMA node, so returning NUMA node zero. See more at https://github.com/torvalds/linux/blob/v6.0/Documentation/ABI/testing/sysfs-bus-pci#L344-L355\n",
      "I0000 00:00:1746613464.250094    3522 cuda_executor.cc:1015] successful NUMA node read from SysFS had negative value (-1), but there must be at least one NUMA node, so returning NUMA node zero. See more at https://github.com/torvalds/linux/blob/v6.0/Documentation/ABI/testing/sysfs-bus-pci#L344-L355\n",
      "I0000 00:00:1746613464.322005    3522 cuda_executor.cc:1015] successful NUMA node read from SysFS had negative value (-1), but there must be at least one NUMA node, so returning NUMA node zero. See more at https://github.com/torvalds/linux/blob/v6.0/Documentation/ABI/testing/sysfs-bus-pci#L344-L355\n",
      "I0000 00:00:1746613464.322229    3522 cuda_executor.cc:1015] successful NUMA node read from SysFS had negative value (-1), but there must be at least one NUMA node, so returning NUMA node zero. See more at https://github.com/torvalds/linux/blob/v6.0/Documentation/ABI/testing/sysfs-bus-pci#L344-L355\n",
      "2025-05-07 12:24:24.322360: W tensorflow/core/common_runtime/gpu/gpu_bfc_allocator.cc:47] Overriding orig_value setting because the TF_FORCE_GPU_ALLOW_GROWTH environment variable is set. Original config value was 0.\n",
      "I0000 00:00:1746613464.322421    3522 cuda_executor.cc:1015] successful NUMA node read from SysFS had negative value (-1), but there must be at least one NUMA node, so returning NUMA node zero. See more at https://github.com/torvalds/linux/blob/v6.0/Documentation/ABI/testing/sysfs-bus-pci#L344-L355\n",
      "2025-05-07 12:24:24.322869: I tensorflow/core/common_runtime/gpu/gpu_device.cc:2021] Created device /job:localhost/replica:0/task:0/device:GPU:0 with 22331 MB memory:  -> device: 0, name: NVIDIA GeForce RTX 3090, pci bus id: 0000:01:00.0, compute capability: 8.6\n"
     ]
    }
   ],
   "source": [
    "R, pi = evoten.substitution_models.jukes_cantor(d = 20)\n",
    "rate_matrix = evoten.model.backend.make_rate_matrix(R, pi).numpy()\n",
    "rate_matrix = rate_matrix[tf.newaxis, :, tf.newaxis,...] # add node and length dimensions"
   ]
  },
  {
   "cell_type": "code",
   "execution_count": 11,
   "metadata": {},
   "outputs": [],
   "source": [
    "#wrap in tf function for speed\n",
    "@tf.function\n",
    "def loglik():\n",
    "    transition_probs = evoten.backend.make_transition_probs(\n",
    "        rate_matrix, \n",
    "        branch_lengths\n",
    "    )\n",
    "    return evoten.model.loglik(\n",
    "        msa_input, \n",
    "        tree_handler, \n",
    "        transition_probs,\n",
    "        tf.math.log(pi)\n",
    "    )"
   ]
  },
  {
   "cell_type": "code",
   "execution_count": 12,
   "metadata": {},
   "outputs": [],
   "source": [
    "#wrap in tf function for speed\n",
    "@tf.function\n",
    "def loglik_chained():\n",
    "    transition_probs = evoten.backend.make_transition_probs(\n",
    "        rate_matrix, \n",
    "        branch_lengths\n",
    "    )\n",
    "    return evoten.model.loglik(\n",
    "        msa_input[:1], # we have just a single leaf \n",
    "        chained_tree_handler, \n",
    "        transition_probs,\n",
    "        tf.math.log(pi)\n",
    "    )"
   ]
  },
  {
   "cell_type": "code",
   "execution_count": null,
   "metadata": {},
   "outputs": [],
   "source": []
  },
  {
   "cell_type": "code",
   "execution_count": 13,
   "metadata": {},
   "outputs": [
    {
     "name": "stderr",
     "output_type": "stream",
     "text": [
      "2025-05-07 12:24:28.059771: I tensorflow/core/util/cuda_solvers.cc:178] Creating GpuSolver handles for stream 0x5a46401ce680\n"
     ]
    }
   ],
   "source": [
    "_=loglik() # compile\n",
    "_=loglik_chained() # compile"
   ]
  },
  {
   "cell_type": "code",
   "execution_count": 14,
   "metadata": {},
   "outputs": [
    {
     "name": "stdout",
     "output_type": "stream",
     "text": [
      "12.9 ms ± 1.26 ms per loop (mean ± std. dev. of 7 runs, 10 loops each)\n"
     ]
    }
   ],
   "source": [
    "%%timeit -n 10\n",
    "    _=loglik()"
   ]
  },
  {
   "cell_type": "code",
   "execution_count": 15,
   "metadata": {},
   "outputs": [
    {
     "name": "stdout",
     "output_type": "stream",
     "text": [
      "903 ms ± 1.43 ms per loop (mean ± std. dev. of 7 runs, 10 loops each)\n"
     ]
    }
   ],
   "source": [
    "%%timeit -n 10\n",
    "    _=loglik_chained()"
   ]
  },
  {
   "cell_type": "markdown",
   "metadata": {},
   "source": [
    "### Pytorch"
   ]
  },
  {
   "cell_type": "code",
   "execution_count": 16,
   "metadata": {},
   "outputs": [],
   "source": [
    "evoten.set_backend(\"pytorch\")"
   ]
  },
  {
   "cell_type": "code",
   "execution_count": 17,
   "metadata": {},
   "outputs": [],
   "source": [
    "import torch \n",
    "\n",
    "R, pi = evoten.substitution_models.jukes_cantor(d = 20)\n",
    "rate_matrix_torch = evoten.model.backend.make_rate_matrix(R, pi).to(\"cuda\")\n",
    "rate_matrix_torch = rate_matrix_torch[None, :, None,...] # add node and length dimensions\n",
    "\n",
    "pi_torch = torch.tensor(pi, device=\"cuda\")\n",
    "msa_input_torch = torch.tensor(msa_input, device=\"cuda\")\n",
    "branch_lengths_toch = torch.tensor(branch_lengths, device=\"cuda\")"
   ]
  },
  {
   "cell_type": "code",
   "execution_count": 18,
   "metadata": {},
   "outputs": [],
   "source": [
    "def loglik_torch():\n",
    "    transition_probs_torch = evoten.backend.make_transition_probs(\n",
    "        rate_matrix_torch, \n",
    "        branch_lengths_toch\n",
    "    )\n",
    "    L = evoten.model.loglik(\n",
    "        msa_input_torch, \n",
    "        tree_handler, \n",
    "        transition_probs_torch,\n",
    "        torch.log(pi_torch)\n",
    "    )\n",
    "    return L"
   ]
  },
  {
   "cell_type": "code",
   "execution_count": 19,
   "metadata": {},
   "outputs": [],
   "source": [
    "def loglik_torch_chained():\n",
    "    transition_probs_torch = evoten.backend.make_transition_probs(\n",
    "        rate_matrix_torch, \n",
    "        branch_lengths_toch\n",
    "    )\n",
    "    L = evoten.model.loglik(\n",
    "        msa_input_torch[:1], # we have just a single leaf\n",
    "        chained_tree_handler, \n",
    "        transition_probs_torch,\n",
    "        torch.log(pi_torch)\n",
    "    )\n",
    "    return L"
   ]
  },
  {
   "cell_type": "code",
   "execution_count": 20,
   "metadata": {},
   "outputs": [],
   "source": [
    "_=loglik_torch()\n",
    "_=loglik_torch_chained()"
   ]
  },
  {
   "cell_type": "code",
   "execution_count": 21,
   "metadata": {},
   "outputs": [
    {
     "name": "stdout",
     "output_type": "stream",
     "text": [
      "15.5 ms ± 14.8 μs per loop (mean ± std. dev. of 7 runs, 10 loops each)\n"
     ]
    }
   ],
   "source": [
    "%%timeit -n 10\n",
    "loglik_torch()"
   ]
  },
  {
   "cell_type": "code",
   "execution_count": 22,
   "metadata": {},
   "outputs": [
    {
     "name": "stdout",
     "output_type": "stream",
     "text": [
      "1.37 s ± 216 μs per loop (mean ± std. dev. of 7 runs, 10 loops each)\n"
     ]
    }
   ],
   "source": [
    "%%timeit -n 10\n",
    "loglik_torch_chained()"
   ]
  }
 ],
 "metadata": {
  "kernelspec": {
   "display_name": "learnMSAdev",
   "language": "python",
   "name": "python3"
  },
  "language_info": {
   "codemirror_mode": {
    "name": "ipython",
    "version": 3
   },
   "file_extension": ".py",
   "mimetype": "text/x-python",
   "name": "python",
   "nbconvert_exporter": "python",
   "pygments_lexer": "ipython3",
   "version": "3.12.7"
  }
 },
 "nbformat": 4,
 "nbformat_minor": 2
}
