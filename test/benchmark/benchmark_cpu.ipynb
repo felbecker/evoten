{
 "cells": [
  {
   "cell_type": "code",
   "execution_count": 1,
   "metadata": {},
   "outputs": [],
   "source": [
    "import os\n",
    "os.environ[\"CUDA_VISIBLE_DEVICES\"] = \"-1\"\n",
    "import sys\n",
    "sys.path.append(\"../..\")\n",
    "import evoten\n",
    "from Bio import SeqIO\n",
    "import numpy as np"
   ]
  },
  {
   "cell_type": "code",
   "execution_count": 2,
   "metadata": {},
   "outputs": [],
   "source": [
    "msa_file = \"PF00008.fasta\"\n",
    "tree_file = \"PF00008.fasta.raxml.bestTree\"\n",
    "alphabet = \"ARNDCQEGHILKMFPSTWYV.\""
   ]
  },
  {
   "cell_type": "code",
   "execution_count": 3,
   "metadata": {},
   "outputs": [],
   "source": [
    "msa_file = \"PF00028.fasta\"\n",
    "tree_file = \"PF00028.fasta.raxml.bestTree\"\n",
    "alphabet = \"ARNDCQEGHILKMFPSTWYV.\""
   ]
  },
  {
   "cell_type": "code",
   "execution_count": 4,
   "metadata": {},
   "outputs": [],
   "source": [
    "# parse fasta\n",
    "import evoten.model\n",
    "\n",
    "leaf_names = []\n",
    "seqs = []\n",
    "for record in SeqIO.parse(msa_file, \"fasta\"):\n",
    "    leaf_names.append(record.id)\n",
    "    seqs.append(str(record.seq))\n",
    "\n",
    "one_hot_leaves = evoten.util.encode_one_hot(seqs, alphabet=alphabet)\n",
    "one_hot_leaves = one_hot_leaves[:, np.newaxis] # add model dimension\n",
    "\n",
    "# create tree\n",
    "tree = evoten.TreeHandler.read(tree_file)"
   ]
  },
  {
   "cell_type": "code",
   "execution_count": 5,
   "metadata": {},
   "outputs": [
    {
     "data": {
      "text/plain": [
       "(55, 12)"
      ]
     },
     "execution_count": 5,
     "metadata": {},
     "output_type": "execute_result"
    }
   ],
   "source": [
    "len(seqs), tree.height"
   ]
  },
  {
   "cell_type": "code",
   "execution_count": 6,
   "metadata": {},
   "outputs": [],
   "source": [
    "num_models = 10\n",
    "\n",
    "tree.set_branch_lengths(np.repeat(tree.branch_lengths, num_models, -1))"
   ]
  },
  {
   "cell_type": "markdown",
   "metadata": {},
   "source": [
    "### TensorFlow"
   ]
  },
  {
   "cell_type": "code",
   "execution_count": 7,
   "metadata": {},
   "outputs": [
    {
     "name": "stderr",
     "output_type": "stream",
     "text": [
      "2024-12-05 10:06:48.149330: E external/local_xla/xla/stream_executor/cuda/cuda_fft.cc:485] Unable to register cuFFT factory: Attempting to register factory for plugin cuFFT when one has already been registered\n",
      "2024-12-05 10:06:48.165392: E external/local_xla/xla/stream_executor/cuda/cuda_dnn.cc:8454] Unable to register cuDNN factory: Attempting to register factory for plugin cuDNN when one has already been registered\n",
      "2024-12-05 10:06:48.170292: E external/local_xla/xla/stream_executor/cuda/cuda_blas.cc:1452] Unable to register cuBLAS factory: Attempting to register factory for plugin cuBLAS when one has already been registered\n",
      "2024-12-05 10:06:48.182967: I tensorflow/core/platform/cpu_feature_guard.cc:210] This TensorFlow binary is optimized to use available CPU instructions in performance-critical operations.\n",
      "To enable the following instructions: AVX2 FMA, in other operations, rebuild TensorFlow with the appropriate compiler flags.\n",
      "2024-12-05 10:06:48.866927: W tensorflow/compiler/tf2tensorrt/utils/py_utils.cc:38] TF-TRT Warning: Could not find TensorRT\n"
     ]
    }
   ],
   "source": [
    "evoten.set_backend(\"tensorflow\")"
   ]
  },
  {
   "cell_type": "code",
   "execution_count": 8,
   "metadata": {},
   "outputs": [
    {
     "name": "stderr",
     "output_type": "stream",
     "text": [
      "2024-12-05 10:06:49.428769: E external/local_xla/xla/stream_executor/cuda/cuda_driver.cc:266] failed call to cuInit: CUDA_ERROR_NO_DEVICE: no CUDA-capable device is detected\n",
      "2024-12-05 10:06:49.428796: I external/local_xla/xla/stream_executor/cuda/cuda_diagnostics.cc:135] retrieving CUDA diagnostic information for host: powergreif\n",
      "2024-12-05 10:06:49.428801: I external/local_xla/xla/stream_executor/cuda/cuda_diagnostics.cc:142] hostname: powergreif\n",
      "2024-12-05 10:06:49.428867: I external/local_xla/xla/stream_executor/cuda/cuda_diagnostics.cc:166] libcuda reported version is: 535.183.1\n",
      "2024-12-05 10:06:49.428885: I external/local_xla/xla/stream_executor/cuda/cuda_diagnostics.cc:170] kernel reported version is: 535.183.1\n",
      "2024-12-05 10:06:49.428890: I external/local_xla/xla/stream_executor/cuda/cuda_diagnostics.cc:249] kernel version seems to match DSO: 535.183.1\n"
     ]
    }
   ],
   "source": [
    "R, pi = evoten.substitution_models.jukes_cantor(d = len(alphabet))\n",
    "rate_matrix = evoten.model.backend.make_rate_matrix(R, pi)"
   ]
  },
  {
   "cell_type": "code",
   "execution_count": 9,
   "metadata": {},
   "outputs": [],
   "source": [
    "#compile tf function once\n",
    "L = evoten.model.loglik(one_hot_leaves, leaf_names, tree, rate_matrix, tree.branch_lengths, pi,\n",
    "                            leaves_are_probabilities=True)"
   ]
  },
  {
   "cell_type": "code",
   "execution_count": 10,
   "metadata": {},
   "outputs": [
    {
     "name": "stdout",
     "output_type": "stream",
     "text": [
      "114 ms ± 1.42 ms per loop (mean ± std. dev. of 7 runs, 100 loops each)\n"
     ]
    }
   ],
   "source": [
    "%%timeit -n 100\n",
    "L = evoten.model.loglik(one_hot_leaves, leaf_names, tree, rate_matrix, tree.branch_lengths, pi,\n",
    "                            leaves_are_probabilities=True)"
   ]
  },
  {
   "cell_type": "markdown",
   "metadata": {},
   "source": [
    "### Pytorch"
   ]
  },
  {
   "cell_type": "code",
   "execution_count": 11,
   "metadata": {},
   "outputs": [],
   "source": [
    "evoten.set_backend(\"pytorch\")"
   ]
  },
  {
   "cell_type": "code",
   "execution_count": 12,
   "metadata": {},
   "outputs": [],
   "source": [
    "R, pi = evoten.substitution_models.jukes_cantor(d = len(alphabet))\n",
    "rate_matrix = evoten.model.backend.make_rate_matrix(R, pi)"
   ]
  },
  {
   "cell_type": "code",
   "execution_count": null,
   "metadata": {},
   "outputs": [
    {
     "name": "stdout",
     "output_type": "stream",
     "text": [
      "27.8 ms ± 235 μs per loop (mean ± std. dev. of 7 runs, 100 loops each)\n"
     ]
    }
   ],
   "source": [
    "%%timeit -n 100\n",
    "L = evoten.model.loglik(one_hot_leaves, leaf_names, tree, rate_matrix, tree.branch_lengths, pi,\n",
    "                            leaves_are_probabilities=True)"
   ]
  },
  {
   "cell_type": "code",
   "execution_count": null,
   "metadata": {},
   "outputs": [],
   "source": []
  }
 ],
 "metadata": {
  "kernelspec": {
   "display_name": "learnMSAdev",
   "language": "python",
   "name": "python3"
  },
  "language_info": {
   "codemirror_mode": {
    "name": "ipython",
    "version": 3
   },
   "file_extension": ".py",
   "mimetype": "text/x-python",
   "name": "python",
   "nbconvert_exporter": "python",
   "pygments_lexer": "ipython3",
   "version": "3.12.7"
  }
 },
 "nbformat": 4,
 "nbformat_minor": 2
}
