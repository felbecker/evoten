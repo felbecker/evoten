{
 "cells": [
  {
   "cell_type": "code",
   "execution_count": 1,
   "metadata": {},
   "outputs": [
    {
     "name": "stderr",
     "output_type": "stream",
     "text": [
      "2025-10-10 14:20:30.738196: E external/local_xla/xla/stream_executor/cuda/cuda_fft.cc:467] Unable to register cuFFT factory: Attempting to register factory for plugin cuFFT when one has already been registered\n",
      "WARNING: All log messages before absl::InitializeLog() is called are written to STDERR\n",
      "E0000 00:00:1760098830.755727 3444203 cuda_dnn.cc:8579] Unable to register cuDNN factory: Attempting to register factory for plugin cuDNN when one has already been registered\n",
      "E0000 00:00:1760098830.761214 3444203 cuda_blas.cc:1407] Unable to register cuBLAS factory: Attempting to register factory for plugin cuBLAS when one has already been registered\n",
      "W0000 00:00:1760098830.775686 3444203 computation_placer.cc:177] computation placer already registered. Please check linkage and avoid linking the same target more than once.\n",
      "W0000 00:00:1760098830.775712 3444203 computation_placer.cc:177] computation placer already registered. Please check linkage and avoid linking the same target more than once.\n",
      "W0000 00:00:1760098830.775714 3444203 computation_placer.cc:177] computation placer already registered. Please check linkage and avoid linking the same target more than once.\n",
      "W0000 00:00:1760098830.775715 3444203 computation_placer.cc:177] computation placer already registered. Please check linkage and avoid linking the same target more than once.\n",
      "2025-10-10 14:20:30.779812: I tensorflow/core/platform/cpu_feature_guard.cc:210] This TensorFlow binary is optimized to use available CPU instructions in performance-critical operations.\n",
      "To enable the following instructions: AVX2 FMA, in other operations, rebuild TensorFlow with the appropriate compiler flags.\n",
      "WARNING: All log messages before absl::InitializeLog() is called are written to STDERR\n",
      "E0000 00:00:1760098830.755727 3444203 cuda_dnn.cc:8579] Unable to register cuDNN factory: Attempting to register factory for plugin cuDNN when one has already been registered\n",
      "E0000 00:00:1760098830.761214 3444203 cuda_blas.cc:1407] Unable to register cuBLAS factory: Attempting to register factory for plugin cuBLAS when one has already been registered\n",
      "W0000 00:00:1760098830.775686 3444203 computation_placer.cc:177] computation placer already registered. Please check linkage and avoid linking the same target more than once.\n",
      "W0000 00:00:1760098830.775712 3444203 computation_placer.cc:177] computation placer already registered. Please check linkage and avoid linking the same target more than once.\n",
      "W0000 00:00:1760098830.775714 3444203 computation_placer.cc:177] computation placer already registered. Please check linkage and avoid linking the same target more than once.\n",
      "W0000 00:00:1760098830.775715 3444203 computation_placer.cc:177] computation placer already registered. Please check linkage and avoid linking the same target more than once.\n",
      "2025-10-10 14:20:30.779812: I tensorflow/core/platform/cpu_feature_guard.cc:210] This TensorFlow binary is optimized to use available CPU instructions in performance-critical operations.\n",
      "To enable the following instructions: AVX2 FMA, in other operations, rebuild TensorFlow with the appropriate compiler flags.\n"
     ]
    }
   ],
   "source": [
    "import sys\n",
    "\n",
    "sys.path.append(\"../..\")\n",
    "import numpy as np\n",
    "import tensorflow as tf\n",
    "from Bio import SeqIO\n",
    "\n",
    "import tensortree"
   ]
  },
  {
   "cell_type": "code",
   "execution_count": 2,
   "metadata": {},
   "outputs": [],
   "source": [
    "msa_file = \"seq-gen.out\"\n",
    "tree_file = \"RAxML_bestTree.out2\"\n",
    "alphabet = \"ACGT\""
   ]
  },
  {
   "cell_type": "code",
   "execution_count": 3,
   "metadata": {},
   "outputs": [],
   "source": [
    "tensortree.set_backend(\"tensorflow\")"
   ]
  },
  {
   "cell_type": "code",
   "execution_count": 4,
   "metadata": {},
   "outputs": [],
   "source": [
    "# parse fasta\n",
    "leaf_names = []\n",
    "seqs = []\n",
    "for record in SeqIO.parse(msa_file, \"fasta\"):\n",
    "    leaf_names.append(record.id)\n",
    "    seqs.append(str(record.seq))\n",
    "\n",
    "one_hot_leaves = tensortree.util.encode_one_hot(seqs, alphabet=alphabet)\n",
    "one_hot_leaves = one_hot_leaves[:, np.newaxis] # add model dimension\n",
    "\n",
    "# create tree\n",
    "tree = tensortree.TreeHandler.read(tree_file)"
   ]
  },
  {
   "cell_type": "code",
   "execution_count": 5,
   "metadata": {},
   "outputs": [
    {
     "name": "stderr",
     "output_type": "stream",
     "text": [
      "I0000 00:00:1760098832.818661 3444203 gpu_device.cc:2019] Created device /job:localhost/replica:0/task:0/device:GPU:0 with 13628 MB memory:  -> device: 0, name: NVIDIA GeForce RTX 3090, pci bus id: 0000:01:00.0, compute capability: 8.6\n"
     ]
    }
   ],
   "source": [
    "def inverse_softplus(x):\n",
    "    return np.log(np.exp(x) - 1 + 1e-16)\n",
    "\n",
    "# create variables, trivially initialize\n",
    "R, pi = tensortree.substitution_models.jukes_cantor(d = len(alphabet))\n",
    "R_kernel = tf.Variable(inverse_softplus(R))\n",
    "pi_kernel = tf.Variable(np.log(pi))\n",
    "B_kernel = tf.Variable(inverse_softplus(np.ones_like(tree.branch_lengths)))\n",
    "\n",
    "\n",
    "def make_R_pi_B(R_kernel, pi_kernel, B_kernel):\n",
    "    R = tensortree.model.backend.make_symmetric_pos_semidefinite(R_kernel)\n",
    "    pi = tensortree.model.backend.make_equilibrium(pi_kernel)\n",
    "    B = tensortree.model.backend.make_branch_lengths(B_kernel)\n",
    "    return R, pi, B"
   ]
  },
  {
   "cell_type": "code",
   "execution_count": 6,
   "metadata": {},
   "outputs": [
    {
     "name": "stdout",
     "output_type": "stream",
     "text": [
      "Initial parameters:\n"
     ]
    },
    {
     "data": {
      "text/plain": [
       "(<tf.Tensor: shape=(1, 4), dtype=float32, numpy=array([[0.25, 0.25, 0.25, 0.25]], dtype=float32)>,\n",
       " <tf.Tensor: shape=(4, 4), dtype=float32, numpy=\n",
       " array([[-1.        ,  0.33333334,  0.33333334,  0.33333334],\n",
       "        [ 0.33333334, -1.        ,  0.33333334,  0.33333334],\n",
       "        [ 0.33333334,  0.33333334, -1.        ,  0.33333334],\n",
       "        [ 0.33333334,  0.33333334,  0.33333334, -1.        ]],\n",
       "       dtype=float32)>,\n",
       " <tf.Tensor: shape=(7, 1), dtype=float32, numpy=\n",
       " array([[1.],\n",
       "        [1.],\n",
       "        [1.],\n",
       "        [1.],\n",
       "        [1.],\n",
       "        [1.],\n",
       "        [1.]], dtype=float32)>)"
      ]
     },
     "execution_count": 6,
     "metadata": {},
     "output_type": "execute_result"
    }
   ],
   "source": [
    "# check initial values\n",
    "R, pi, B = make_R_pi_B(R_kernel, pi_kernel, B_kernel)\n",
    "Q = tensortree.model.backend.make_rate_matrix(R, pi)\n",
    "\n",
    "print(\"Initial parameters:\")\n",
    "pi, Q[0], B"
   ]
  },
  {
   "cell_type": "code",
   "execution_count": 7,
   "metadata": {},
   "outputs": [
    {
     "name": "stdout",
     "output_type": "stream",
     "text": [
      "WARNING:tensorflow:AutoGraph could not transform <function train_step at 0x7e11af6a07c0> and will run it as-is.\n",
      "Cause: Unable to locate the source code of <function train_step at 0x7e11af6a07c0>. Note that functions defined in certain environments, like the interactive Python shell, do not expose their source code. If that is the case, you should define them in a .py source file. If you are certain the code is graph-compatible, wrap the call using @tf.autograph.experimental.do_not_convert. Original error: could not get source code\n",
      "To silence this warning, decorate the function with @tf.autograph.experimental.do_not_convert\n",
      "WARNING: AutoGraph could not transform <function train_step at 0x7e11af6a07c0> and will run it as-is.\n",
      "Cause: Unable to locate the source code of <function train_step at 0x7e11af6a07c0>. Note that functions defined in certain environments, like the interactive Python shell, do not expose their source code. If that is the case, you should define them in a .py source file. If you are certain the code is graph-compatible, wrap the call using @tf.autograph.experimental.do_not_convert. Original error: could not get source code\n",
      "To silence this warning, decorate the function with @tf.autograph.experimental.do_not_convert\n",
      "WARNING: AutoGraph could not transform <function train_step at 0x7e11af6a07c0> and will run it as-is.\n",
      "Cause: Unable to locate the source code of <function train_step at 0x7e11af6a07c0>. Note that functions defined in certain environments, like the interactive Python shell, do not expose their source code. If that is the case, you should define them in a .py source file. If you are certain the code is graph-compatible, wrap the call using @tf.autograph.experimental.do_not_convert. Original error: could not get source code\n",
      "To silence this warning, decorate the function with @tf.autograph.experimental.do_not_convert\n"
     ]
    },
    {
     "name": "stderr",
     "output_type": "stream",
     "text": [
      "WARNING: All log messages before absl::InitializeLog() is called are written to STDERR\n",
      "I0000 00:00:1760098835.904575 3444363 cuda_solvers.cc:175] Creating GpuSolver handles for stream 0x559d78c6d4e0\n"
     ]
    },
    {
     "name": "stdout",
     "output_type": "stream",
     "text": [
      "loss after epoch 0=6.58097505569458\n",
      "loss after epoch 1=6.462469100952148\n",
      "loss after epoch 2=6.356911659240723\n",
      "loss after epoch 3=6.262936115264893\n",
      "loss after epoch 4=6.180235385894775\n",
      "loss after epoch 10=5.816765308380127\n",
      "loss after epoch 10=5.816765308380127\n",
      "loss after epoch 20=5.375382423400879\n",
      "loss after epoch 20=5.375382423400879\n",
      "loss after epoch 30=5.107823371887207\n",
      "loss after epoch 30=5.107823371887207\n",
      "loss after epoch 40=4.9764790534973145\n",
      "loss after epoch 40=4.9764790534973145\n",
      "loss after epoch 50=4.922436237335205\n",
      "loss after epoch 50=4.922436237335205\n",
      "loss after epoch 60=4.908176898956299\n",
      "loss after epoch 60=4.908176898956299\n",
      "loss after epoch 70=4.906219482421875\n",
      "loss after epoch 70=4.906219482421875\n",
      "loss after epoch 80=4.904942989349365\n",
      "loss after epoch 80=4.904942989349365\n",
      "loss after epoch 90=4.903711318969727\n",
      "loss after epoch 90=4.903711318969727\n",
      "CPU times: user 4.56 s, sys: 483 ms, total: 5.04 s\n",
      "Wall time: 7.28 s\n",
      "CPU times: user 4.56 s, sys: 483 ms, total: 5.04 s\n",
      "Wall time: 7.28 s\n"
     ]
    }
   ],
   "source": [
    "%%time\n",
    "# model training\n",
    "lr = 0.05\n",
    "num_steps = 100\n",
    "\n",
    "# make a backup for plotting\n",
    "initial_tree = tensortree.TreeHandler.copy(tree)\n",
    "initial_tree.set_branch_lengths(B.numpy())\n",
    "\n",
    "@tf.function\n",
    "def train_step(one_hot_leaves, leaf_names, tree):\n",
    "    with tf.GradientTape() as tape:\n",
    "\n",
    "        # Compute exchangeability matrix, equilibrium frequencies,\n",
    "        # and branch lengths\n",
    "        R, pi, B = make_R_pi_B(R_kernel, pi_kernel, B_kernel)\n",
    "\n",
    "        # Compute a rate matrix\n",
    "        Q = tensortree.model.backend.make_rate_matrix(R, pi)\n",
    "\n",
    "        # Compute transition probabilities for each branch\n",
    "        transition_probs = tensortree.backend.make_transition_probs(Q, B)\n",
    "        L = tensortree.model.loglik(\n",
    "            one_hot_leaves,\n",
    "            tree,\n",
    "            transition_probs,\n",
    "            tf.math.log(pi),\n",
    "            leaf_names=leaf_names,\n",
    "            leaves_are_probabilities=True\n",
    "        )\n",
    "\n",
    "        loss = -tf.reduce_mean(L)\n",
    "\n",
    "    grads = tape.gradient(loss, [R_kernel, pi_kernel, B_kernel])\n",
    "    return loss, grads\n",
    "\n",
    "optimizer = tf.keras.optimizers.Adam(learning_rate = lr)\n",
    "\n",
    "for step in range(num_steps):\n",
    "    loss, grads = train_step(one_hot_leaves, leaf_names, tree)\n",
    "    dR, dpi, dB = grads\n",
    "\n",
    "    optimizer.apply_gradients(zip([dR, dpi, dB], [R_kernel, pi_kernel, B_kernel]))\n",
    "\n",
    "    # test output\n",
    "    if step < 5 or step % 10 == 0:\n",
    "        print(f\"loss after epoch {step}={loss.numpy()}\")"
   ]
  },
  {
   "cell_type": "code",
   "execution_count": 8,
   "metadata": {},
   "outputs": [],
   "source": [
    "R, pi, B = make_R_pi_B(R_kernel, pi_kernel, B_kernel)\n",
    "Q = tensortree.model.backend.make_rate_matrix(R, pi)"
   ]
  },
  {
   "cell_type": "code",
   "execution_count": 9,
   "metadata": {},
   "outputs": [
    {
     "name": "stdout",
     "output_type": "stream",
     "text": [
      "Learned parameters:\n"
     ]
    },
    {
     "data": {
      "text/plain": [
       "(<tf.Tensor: shape=(1, 4), dtype=float32, numpy=array([[0.09925143, 0.1996742 , 0.3005516 , 0.4005228 ]], dtype=float32)>,\n",
       " <tf.Tensor: shape=(4, 4), dtype=float32, numpy=\n",
       " array([[0.       , 1.8702791, 0.9141477, 1.4263791],\n",
       "        [1.8702791, 0.       , 1.089527 , 1.2420251],\n",
       "        [0.9141477, 1.089527 , 0.       , 1.649703 ],\n",
       "        [1.4263791, 1.2420251, 1.649703 , 0.       ]], dtype=float32)>,\n",
       " <tf.Tensor: shape=(4, 4), dtype=float32, numpy=\n",
       " array([[-1.2589248 ,  0.38552195,  0.28363258,  0.5897703 ],\n",
       "        [ 0.19163017, -1.0432225 ,  0.3380475 ,  0.5135448 ],\n",
       "        [ 0.09366424,  0.22458497, -1.0003581 ,  0.68210894],\n",
       "        [ 0.14614786,  0.25601953,  0.51185334, -0.9140207 ]],\n",
       "       dtype=float32)>)"
      ]
     },
     "execution_count": 9,
     "metadata": {},
     "output_type": "execute_result"
    }
   ],
   "source": [
    "print(\"Learned parameters:\")\n",
    "pi, R[0], Q[0]"
   ]
  },
  {
   "cell_type": "code",
   "execution_count": 10,
   "metadata": {},
   "outputs": [
    {
     "name": "stdout",
     "output_type": "stream",
     "text": [
      "True parameters:\n"
     ]
    },
    {
     "data": {
      "text/plain": [
       "(array([0.1, 0.2, 0.3, 0.4]),\n",
       " array([1.87265918, 0.93632959, 1.49812734, 1.12359551, 1.31086142,\n",
       "        1.68539326]),\n",
       " [np.float64(0.3745318352059925),\n",
       "  np.float64(0.28089887640449435),\n",
       "  np.float64(0.599250936329588),\n",
       "  np.float64(0.3370786516853932),\n",
       "  np.float64(0.5243445692883895),\n",
       "  np.float64(0.6741573033707864)])"
      ]
     },
     "execution_count": 10,
     "metadata": {},
     "output_type": "execute_result"
    }
   ],
   "source": [
    "true_pi = np.array([0.1, 0.2, 0.3, 0.4])\n",
    "\n",
    "# normalized rate matrix\n",
    "r = [10, 5, 8, 6, 7, 9]\n",
    "mut = 2 * (true_pi[0] * true_pi[1] * r[0] + true_pi[0] * true_pi[2] * r[1] + true_pi[0] * true_pi[3] * r[2] +\n",
    "           true_pi[1] * true_pi[2] * r[3] + true_pi[1] * true_pi[3] * r[4] + true_pi[2] * true_pi[3] *r[5])\n",
    "rnorm = r / mut\n",
    "q = [rnorm[0] * true_pi[1], rnorm[1] * true_pi[2], rnorm[2] * true_pi[3],\n",
    "     rnorm[3] * true_pi[2], rnorm[4] * true_pi[3], rnorm[5] * true_pi[3]]\n",
    "\n",
    "print(\"True parameters:\")\n",
    "true_pi, rnorm, q"
   ]
  },
  {
   "cell_type": "code",
   "execution_count": 11,
   "metadata": {},
   "outputs": [
    {
     "name": "stdout",
     "output_type": "stream",
     "text": [
      "0.18610746 0.3017016\n",
      "0.18610746 0.3013877\n",
      "0.18610746 0.2005827\n",
      "0.18610746 0.100148804\n",
      "0.18610746 0.09924722\n",
      "0.33754262 0.29687506\n",
      "0.09803152 0.10143233\n"
     ]
    }
   ],
   "source": [
    "for learned_branch_length, true_branch_length in zip(B[:,0], tree.branch_lengths[:, 0]):\n",
    "    print(learned_branch_length.numpy(), true_branch_length)"
   ]
  },
  {
   "cell_type": "code",
   "execution_count": 12,
   "metadata": {},
   "outputs": [
    {
     "data": {
      "image/png": "[encoded data removed]",
      "text/plain": [
       "<Figure size 1200x500 with 3 Axes>"
      ]
     },
     "metadata": {},
     "output_type": "display_data"
    }
   ],
   "source": [
    "# draw and save as png\n",
    "import matplotlib.pyplot as plt\n",
    "%matplotlib inline\n",
    "\n",
    "# Create figure with two subplots\n",
    "figure, (ax0, ax1, ax2) = plt.subplots(1, 3, figsize=(12, 5))\n",
    "\n",
    "# draw the true tree\n",
    "tree.draw(axes=ax0, no_labels=True, do_show=False)\n",
    "ax0.set_title(\"True Tree\")\n",
    "\n",
    "# draw the learned tree\n",
    "learned_tree = tensortree.TreeHandler.copy(tree)\n",
    "learned_tree.set_branch_lengths(B.numpy())\n",
    "learned_tree.draw(axes=ax1, no_labels=True, do_show=False)\n",
    "ax1.set_title(\"Learned Tree\")\n",
    "\n",
    "# draw the initial tree\n",
    "initial_tree.draw(axes=ax2, no_labels=True, do_show=False)\n",
    "ax2.set_title(\"Initial Tree\")\n",
    "\n",
    "figure.show()\n"
   ]
  },
  {
   "cell_type": "code",
   "execution_count": null,
   "metadata": {},
   "outputs": [],
   "source": []
  }
 ],
 "metadata": {
  "kernelspec": {
   "display_name": "learnMSAdev",
   "language": "python",
   "name": "python3"
  },
  "language_info": {
   "codemirror_mode": {
    "name": "ipython",
    "version": 3
   },
   "file_extension": ".py",
   "mimetype": "text/x-python",
   "name": "python",
   "nbconvert_exporter": "python",
   "pygments_lexer": "ipython3",
   "version": "3.12.11"
  }
 },
 "nbformat": 4,
 "nbformat_minor": 2
}
