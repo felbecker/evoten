{
 "cells": [
  {
   "cell_type": "code",
   "execution_count": 1,
   "metadata": {},
   "outputs": [
    {
     "name": "stderr",
     "output_type": "stream",
     "text": [
      "2025-10-16 14:57:20.403209: I tensorflow/core/platform/cpu_feature_guard.cc:210] This TensorFlow binary is optimized to use available CPU instructions in performance-critical operations.\n",
      "To enable the following instructions: AVX2 FMA, in other operations, rebuild TensorFlow with the appropriate compiler flags.\n",
      "WARNING: All log messages before absl::InitializeLog() is called are written to STDERR\n",
      "I0000 00:00:1760619442.180511  538406 gpu_device.cc:2020] Created device /job:localhost/replica:0/task:0/device:GPU:0 with 13647 MB memory:  -> device: 0, name: NVIDIA GeForce RTX 3090, pci bus id: 0000:01:00.0, compute capability: 8.6\n"
     ]
    },
    {
     "name": "stdout",
     "output_type": "stream",
     "text": [
      "Loglikelihood:  tf.Tensor([[-7.605143  -5.7625747 -7.249683 ]], shape=(1, 3), dtype=float32)\n"
     ]
    },
    {
     "name": "stderr",
     "output_type": "stream",
     "text": [
      "I0000 00:00:1760619444.034856  538406 cuda_solvers.cc:175] Creating GpuSolver handles for stream 0x623c9a12bba0\n"
     ]
    }
   ],
   "source": [
    "import sys\n",
    "\n",
    "sys.path.append(\"../\")\n",
    "\n",
    "from io import StringIO\n",
    "\n",
    "import numpy as np\n",
    "\n",
    "import evoten\n",
    "\n",
    "evoten.set_backend(\"tensorflow\")\n",
    "\n",
    "# parse a tree\n",
    "handle = StringIO(\"(A:0.1,B:0.2,(C:0.3,D:0.4)E:0.5)F;\")\n",
    "tree = evoten.TreeHandler.read(handle)\n",
    "\n",
    "# leaves with final shape (n, 1, L, d)\n",
    "leaves = np.array([[0,2,3],\n",
    "                   [1,1,0],\n",
    "                   [2,1,0],\n",
    "                   [3,1,2]])\n",
    "leaves = np.eye(4)[leaves]\n",
    "leaves = leaves[:,np.newaxis] # model dimension, here we'll use a single model\n",
    "\n",
    "leaf_names = ['A', 'B', 'C', 'D']\n",
    "\n",
    "# use a rate matrix, here Jukes-Cantor, shape (1, d, d)\n",
    "rate_matrix = np.array([[[-1, 1./3, 1./3, 1./3],\n",
    "                         [1./3, -1, 1./3, 1./3],\n",
    "                         [1./3, 1./3, -1, 1./3],\n",
    "                         [1./3, 1./3, 1./3, -1]]])\n",
    "\n",
    "leaves = leaves.astype(evoten.util.default_dtype)\n",
    "rate_matrix = rate_matrix.astype(evoten.util.default_dtype)\n",
    "\n",
    "# compute the loglikelihood log P(leaves | tree)\n",
    "transition_probs = evoten.backend.make_transition_probs(\n",
    "    rate_matrix,\n",
    "    tree.branch_lengths\n",
    ")\n",
    "# add the length dimension (broadcasting)\n",
    "# the inputs have one, so transition probs also need one\n",
    "transition_probs = transition_probs[:,:,np.newaxis]\n",
    "L = evoten.model.loglik(\n",
    "    leaves,\n",
    "    tree,\n",
    "    transition_probs,\n",
    "    equilibrium_logits=np.log([[1./4, 1./4, 1./4, 1./4]]),\n",
    "    leaf_names=leaf_names,\n",
    "    leaves_are_probabilities=True\n",
    ")\n",
    "\n",
    "print(\"Loglikelihood: \", L)"
   ]
  },
  {
   "cell_type": "code",
   "execution_count": 2,
   "metadata": {},
   "outputs": [
    {
     "data": {
      "image/png": "[encoded data removed]",
      "text/plain": [
       "<Figure size 640x480 with 1 Axes>"
      ]
     },
     "metadata": {},
     "output_type": "display_data"
    }
   ],
   "source": [
    "# draw and save as png\n",
    "import matplotlib.pyplot as plt\n",
    "\n",
    "figure, ax = plt.subplots()\n",
    "tree.draw(axes=ax)\n",
    "figure.savefig(\"example.png\")"
   ]
  },
  {
   "cell_type": "code",
   "execution_count": 3,
   "metadata": {},
   "outputs": [
    {
     "name": "stdout",
     "output_type": "stream",
     "text": [
      "Marginal distributions of node E :\n",
      " [[[0.15933783 0.09937008 0.42822528 0.31306723]\n",
      "  [0.0074275  0.9599043  0.02524071 0.0074275 ]\n",
      "  [0.63605314 0.03286138 0.21941343 0.11167206]]]\n",
      "Marginal distributions of node F :\n",
      " [[[0.60789233 0.29487458 0.05354059 0.04369259]\n",
      "  [0.01026389 0.68136317 0.2981091  0.01026389]\n",
      "  [0.52866733 0.01466862 0.03062199 0.42604187]]]\n"
     ]
    }
   ],
   "source": [
    "# compute marginal distributions at all ancestral nodes, i.e. P(ancestral_node | leaves, tree) \n",
    "M = evoten.model.compute_ancestral_marginals(\n",
    "    leaves,\n",
    "    tree,\n",
    "    transition_probs,\n",
    "    equilibrium_logits=np.log([[1./4, 1./4, 1./4, 1./4]]),\n",
    "    leaf_names=leaf_names,\n",
    "    leaves_are_probabilities=True,\n",
    "    return_probabilities=True\n",
    ")\n",
    "\n",
    "ancestral_names = [\"E\", \"F\"]\n",
    "for i in range(len(ancestral_names)):\n",
    "    print(\"Marginal distributions of node\", ancestral_names[i], \":\\n\", M[i].numpy())"
   ]
  },
  {
   "cell_type": "markdown",
   "metadata": {},
   "source": [
    "\n",
    "Depending on the chosen backend, L and M are TensorFlow or Pytorch Tensors that can be differentiated with respect to leaves, branch lengths or rates.\n",
    "\n",
    "For more detailed examples please see unit tests."
   ]
  }
 ],
 "metadata": {
  "kernelspec": {
   "display_name": "evotendev",
   "language": "python",
   "name": "python3"
  },
  "language_info": {
   "codemirror_mode": {
    "name": "ipython",
    "version": 3
   },
   "file_extension": ".py",
   "mimetype": "text/x-python",
   "name": "python",
   "nbconvert_exporter": "python",
   "pygments_lexer": "ipython3",
   "version": "3.12.12"
  }
 },
 "nbformat": 4,
 "nbformat_minor": 2
}
